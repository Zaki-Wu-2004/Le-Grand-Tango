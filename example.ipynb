{
 "cells": [
  {
   "cell_type": "code",
   "execution_count": 1,
   "id": "5e17a91b-60af-4363-a8d8-fe3e69cbaa94",
   "metadata": {},
   "outputs": [],
   "source": [
    "import numpy as np\n",
    "import cv2 as cv\n",
    "import copy\n",
    "file='example.jpg'\n",
    "a = cv.imread(file)\n",
    "a = cv.medianBlur(a,9)\n",
    "W=300\n",
    "H=300\n",
    "R=120\n",
    "Cx=W/2\n",
    "Cy=H/2\n",
    "a = cv.resize(a, (W, H), interpolation = cv.INTER_AREA)\n",
    "b = a.copy()\n",
    "f = a.copy()\n",
    "a = cv.cvtColor(a, cv.COLOR_BGR2GRAY)\n",
    "a = cv.Canny(a,0,255)"
   ]
  },
  {
   "cell_type": "code",
   "execution_count": 2,
   "id": "ae2cf8a2-7199-445a-be8c-ca175a89630f",
   "metadata": {},
   "outputs": [
    {
     "data": {
      "text/plain": [
       "True"
      ]
     },
     "execution_count": 2,
     "metadata": {},
     "output_type": "execute_result"
    }
   ],
   "source": [
    "cv.imwrite(file+'_edge.jpg', a)\n",
    "import numpy as np\n",
    "Y, X = np.ogrid[:H, :W]\n",
    "dist_from_center = np.sqrt((X - Cx)**2 + (Y - Cy)**2)\n",
    "mask = dist_from_center > R\n",
    "a[mask] = 0\n",
    "cv.imwrite(file+'_without_dish_edge.jpg', a)"
   ]
  },
  {
   "cell_type": "code",
   "execution_count": 3,
   "id": "a610bfe3-3fe9-43c3-bc19-838e20848e3a",
   "metadata": {},
   "outputs": [
    {
     "data": {
      "text/plain": [
       "True"
      ]
     },
     "execution_count": 3,
     "metadata": {},
     "output_type": "execute_result"
    }
   ],
   "source": [
    "kernel = np.ones((6,6),np.uint8) \n",
    "a[a>0.3*255] = 255\n",
    "a[a<=0.3*255] = 0\n",
    "cv.imwrite(file+'_bin.jpg', a)"
   ]
  },
  {
   "cell_type": "code",
   "execution_count": 4,
   "id": "0096bc9e-8d9e-4336-a99b-c22ca3e5109d",
   "metadata": {},
   "outputs": [
    {
     "name": "stdout",
     "output_type": "stream",
     "text": [
      "[(124, 262), (124, 262), (162, 257), (162, 257), (128, 251), (129, 252), (201, 250), (201, 250), (140, 248), (140, 248), (81, 241), (220, 236), (220, 236), (109, 229), (109, 229), (101, 217), (101, 217), (94, 204), (94, 204), (212, 201), (218, 200), (211, 201), (183, 199), (184, 199), (150, 198), (150, 198), (204, 193), (204, 193), (176, 192), (177, 192), (217, 189), (217, 189), (159, 190), (159, 190), (137, 191), (137, 191), (259, 184), (259, 184), (187, 182), (187, 182), (62, 171), (62, 171), (251, 171), (251, 171), (189, 170), (189, 170), (211, 157), (211, 157), (264, 152), (264, 152), (231, 151), (231, 151), (50, 135), (50, 135), (196, 133), (196, 133), (97, 132), (97, 132), (262, 124), (201, 120), (201, 120), (187, 121), (187, 121), (38, 118), (119, 111), (119, 111), (192, 108), (192, 108), (252, 108), (255, 111), (250, 104), (54, 102), (54, 102), (81, 100), (81, 100), (238, 95), (238, 95), (61, 89), (61, 89), (173, 89), (173, 89), (195, 86), (195, 86), (104, 80), (104, 80), (83, 77), (84, 77), (142, 73), (142, 74), (234, 70), (234, 70), (75, 68), (75, 68), (182, 61), (182, 61), (205, 57), (205, 57), (145, 55), (145, 55), (184, 47), (184, 48), (195, 43), (195, 43), (127, 41), (127, 41)]\n"
     ]
    },
    {
     "data": {
      "text/plain": [
       "'\\nAuthor: WU ZHIKAI(Zaki)\\n'"
      ]
     },
     "execution_count": 4,
     "metadata": {},
     "output_type": "execute_result"
    }
   ],
   "source": [
    "contours, _ = cv.findContours(a, cv.RETR_TREE, cv.CHAIN_APPROX_SIMPLE)\n",
    "temp = np.zeros(a.shape, np.uint8)\n",
    "C=[]\n",
    "for cnt in contours:\n",
    "    M = cv.moments(cnt)\n",
    "    if M[\"m00\"] != 0:\n",
    "        cx = int(M[\"m10\"] / M[\"m00\"])\n",
    "        cy = int(M[\"m01\"] / M[\"m00\"])\n",
    "        cv.circle(b, (cx, cy), radius=5, color=(0, 0, 255), thickness=-1)\n",
    "        C.append((cx,cy))\n",
    "cv.imwrite(file+'_marked_example.jpg', b)\n",
    "#cv.imshow('image of Z.Wu', b)\n",
    "print(C)\n",
    "\"\"\"\n",
    "Author: WU ZHIKAI(Zaki)\n",
    "\"\"\""
   ]
  },
  {
   "cell_type": "code",
   "execution_count": null,
   "id": "d945a72f-201d-434d-a38b-239f05802827",
   "metadata": {},
   "outputs": [],
   "source": []
  }
 ],
 "metadata": {
  "kernelspec": {
   "display_name": "Python 3 (ipykernel)",
   "language": "python",
   "name": "python3"
  },
  "language_info": {
   "codemirror_mode": {
    "name": "ipython",
    "version": 3
   },
   "file_extension": ".py",
   "mimetype": "text/x-python",
   "name": "python",
   "nbconvert_exporter": "python",
   "pygments_lexer": "ipython3",
   "version": "3.9.13"
  }
 },
 "nbformat": 4,
 "nbformat_minor": 5
}
